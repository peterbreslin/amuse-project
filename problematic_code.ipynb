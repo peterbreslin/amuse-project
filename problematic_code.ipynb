{
 "cells": [
  {
   "cell_type": "markdown",
   "id": "2df59792",
   "metadata": {},
   "source": [
    "### Can tidal forces and the Lidov-Kozai mechanism cause a system of exomoons to align in the same orbital plane?"
   ]
  },
  {
   "cell_type": "code",
   "execution_count": 1,
   "id": "c89b5f9f",
   "metadata": {},
   "outputs": [],
   "source": [
    "# packages\n",
    "import numpy as np\n",
    "from amuse.lab import Particles\n",
    "import matplotlib.pyplot as plt\n",
    "from amuse.units.constants import G\n",
    "from amuse.units import units, constants\n",
    "from amuse.lab import Huayno, nbody_system\n",
    "from amuse.community.ph4.interface import ph4\n",
    "from amuse.ext.orbital_elements import get_orbital_elements_from_binary"
   ]
  },
  {
   "cell_type": "code",
   "execution_count": 2,
   "id": "b8f7b180",
   "metadata": {},
   "outputs": [],
   "source": [
    "# Creating a SIMPLE system of the Sun, Jupiter and Ganymede (largest moon) --> begin with Sun and Jupiter\n",
    "system = Particles(2)\n",
    "\n",
    "# Declaring Sun\n",
    "sun = system[0]\n",
    "sun.name = 'Sun'\n",
    "sun.mass = 1 | units.MSun\n",
    "sun.position = (0,0,0) | units.au\n",
    "sun.velocity = (0,0,0) | units.kms\n",
    "\n",
    "# Declaring Jupiter\n",
    "jupiter = system[1]\n",
    "jupiter.name = 'Jupiter'\n",
    "jupiter.mass = 1 | units.MJupiter\n",
    "jupiter.position = (5.2044,0,0) | units.au\n",
    "\n",
    "# Relative velocities\n",
    "def relative_orbital_velocity(mass, distance):\n",
    "    return (G*mass/distance).sqrt()\n",
    "\n",
    "# Jupiter velocity\n",
    "vorb_j = relative_orbital_velocity(sun.mass+jupiter.mass, jupiter.position.sum())\n",
    "jupiter.velocity = (0, 1, 0) * vorb_j\n",
    "\n",
    "# Centering the system\n",
    "system.move_to_center()\n",
    "\n",
    "# Declaring Ganymede\n",
    "ganymede = Particles(1)\n",
    "ganymede.name = 'Ganymede'\n",
    "ganymede.mass = 1.48E23 | units.kg\n",
    "\n",
    "#initial parameters --> will depend on those needed for Lidov-Kozai Mechanism to take effect\n",
    "ganymede.position = (1070400,0,0) | units.km \n",
    "ganymede.inclination = np.pi | units.rad\n",
    "ganymede.eccentricity = 0.3\n",
    "\n",
    "# Ganymede velocity\n",
    "vorb_g = relative_orbital_velocity(ganymede.mass+jupiter.mass, ganymede.position.sum())\n",
    "ganymede.velocity = (0, 1, 0) * vorb_g \n",
    "\n",
    "# We want Ganymede to orbit around Jupiter --> must add the positions and velocity of Jupiter to the Ganymede's\n",
    "ganymede.position += jupiter.position\n",
    "ganymede.velocity += jupiter.velocity\n",
    "\n",
    "# Adding Ganymede and recentering the system\n",
    "system.add_particle(ganymede)\n",
    "system.move_to_center()"
   ]
  },
  {
   "cell_type": "code",
   "execution_count": 3,
   "id": "c216fccf",
   "metadata": {},
   "outputs": [
    {
     "name": "stdout",
     "output_type": "stream",
     "text": [
      "                 key  eccentricity  inclination         mass         name           vx           vy           vz            x            y            z\n",
      "                   -         none          rad         MSun         none          kms          kms          kms           au           au           au\n",
      "====================  ===========  ===========  ===========  ===========  ===========  ===========  ===========  ===========  ===========  ===========\n",
      " 1069499711612974690    0.000e+00    0.000e+00    1.000e+00          Sun    0.000e+00   -1.246e-02    0.000e+00   -4.964e-03    0.000e+00    0.000e+00\n",
      "10151226502096496151    0.000e+00    0.000e+00    9.546e-04      Jupiter    0.000e+00    1.305e+01    0.000e+00    5.199e+00    0.000e+00    0.000e+00\n",
      "11095659992137875480    3.000e-01    3.142e+00    7.441e-08     Ganymede    0.000e+00    2.393e+01    0.000e+00    5.207e+00    0.000e+00    0.000e+00\n",
      "====================  ===========  ===========  ===========  ===========  ===========  ===========  ===========  ===========  ===========  ===========\n"
     ]
    }
   ],
   "source": [
    "print(system)"
   ]
  },
  {
   "cell_type": "code",
   "execution_count": 4,
   "id": "e24f29c7",
   "metadata": {},
   "outputs": [
    {
     "name": "stdout",
     "output_type": "stream",
     "text": [
      "Help on function get_orbital_elements_from_binary in module amuse.ext.orbital_elements:\n",
      "\n",
      "get_orbital_elements_from_binary(binary, G=quantity<1.0 length**3 / (mass * time**2)>)\n",
      "    Function that computes orbital elements from given two-particle set.\n",
      "    Elements are computed for the second particle in this set and the\n",
      "    return values are: mass1, mass2, semimajor axis, eccentricity,\n",
      "    cosine of true anomaly, cosine of inclination, cosine of the\n",
      "    longitude of the ascending node and the cosine of the argument of\n",
      "    pericenter. In case of a perfectly circular orbit the true anomaly\n",
      "    and argument of pericenter cannot be determined; in this case the\n",
      "    return values are 1.0 for both cosines.\n",
      "\n"
     ]
    }
   ],
   "source": [
    "help(get_orbital_elements_from_binary)"
   ]
  },
  {
   "cell_type": "code",
   "execution_count": 5,
   "id": "a5c64bc6",
   "metadata": {},
   "outputs": [],
   "source": [
    "# Integrate system over time\n",
    "def integrate_system(particles, dt, end_time):\n",
    "    convert_nbody = nbody_system.nbody_to_si(particles.mass.sum(), particles[1].position.length())\n",
    "    \n",
    "    gravity = Huayno(convert_nbody)\n",
    "    gravity.particles.add_particles(particles)\n",
    "    \n",
    "    ecc = [] #eccentricity\n",
    "    inc = [] #inclination\n",
    "    time = []\n",
    "    \n",
    "    channel = gravity.particles.new_channel_to(particles)\n",
    "    \n",
    "    while gravity.model_time < end_time:\n",
    "        \n",
    "        channel.copy()\n",
    "        jup_gan_binary = particles[1:3]\n",
    "        jup_gan_oe = get_orbital_elements_from_binary(jup_gan_binary, G=constants.G)\n",
    "        \n",
    "        gravity.evolve_model(gravity.model_time + (dt))\n",
    "        ecc.append(jup_gan_oe[3])\n",
    "        inc.append(jup_gan_oe[5])\n",
    "        time.append(gravity.model_time + (dt))\n",
    "        \n",
    "    gravity.stop()\n",
    "    \n",
    "    return ecc, inc, time"
   ]
  },
  {
   "cell_type": "code",
   "execution_count": null,
   "id": "f6deebdd",
   "metadata": {},
   "outputs": [],
   "source": [
    "ecc, inc, time = integrate_system(system, 10|units.day, 0.1|units.Myr)"
   ]
  },
  {
   "cell_type": "code",
   "execution_count": 19,
   "id": "0c44a5ff",
   "metadata": {},
   "outputs": [],
   "source": [
    "# eccentricity as function of the orbital inclination\n",
    "def plot_track(ecc, inc, time):\n",
    "    \n",
    "    test = inc/np.radians\n",
    "    \n",
    "    fig, ax2 = plt.subplots(figsize=[10, 10])\n",
    "    \n",
    "    #ax1.minorticks_on()\n",
    "    #ax1.locator_params(nbins=3)\n",
    "    #ax1.scatter(time.value_in(units.yr), ecc.value_in(units), color = 'g')\n",
    "    \n",
    "    ax2.minorticks_on()\n",
    "    ax2.locator_params(nbins=3)\n",
    "    ax2.scatter(time.value_in(units.yr), test.value_in(units.rad), color = 'g')\n",
    "   \n",
    "    plt.show()"
   ]
  },
  {
   "cell_type": "code",
   "execution_count": 7,
   "id": "889dd886",
   "metadata": {},
   "outputs": [],
   "source": [
    "#plot_track(ecc, inc, time)"
   ]
  }
 ],
 "metadata": {
  "kernelspec": {
   "display_name": "Python 3 (ipykernel)",
   "language": "python",
   "name": "python3"
  },
  "language_info": {
   "codemirror_mode": {
    "name": "ipython",
    "version": 3
   },
   "file_extension": ".py",
   "mimetype": "text/x-python",
   "name": "python",
   "nbconvert_exporter": "python",
   "pygments_lexer": "ipython3",
   "version": "3.8.10"
  }
 },
 "nbformat": 4,
 "nbformat_minor": 5
}
