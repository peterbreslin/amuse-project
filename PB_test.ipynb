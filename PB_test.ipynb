{
 "cells": [
  {
   "cell_type": "markdown",
   "id": "2df59792",
   "metadata": {},
   "source": [
    "### Can tidal forces and the Lidov-Kozai mechanism cause a system of exomoons to align in the same orbital plane?"
   ]
  },
  {
   "cell_type": "code",
   "execution_count": 1,
   "id": "c89b5f9f",
   "metadata": {},
   "outputs": [],
   "source": [
    "# packages\n",
    "import numpy as np\n",
    "from amuse.lab import Particles\n",
    "import matplotlib.pyplot as plt\n",
    "from amuse.units.constants import G\n",
    "from amuse.units import units, constants\n",
    "from amuse.lab import Huayno, nbody_system\n",
    "from amuse.community.ph4.interface import ph4\n",
    "from amuse.units import generic_unit_converter\n",
    "from amuse.ext.orbital_elements import get_orbital_elements_from_binary\n",
    "from amuse.ext.orbital_elements import new_binary_from_orbital_elements"
   ]
  },
  {
   "cell_type": "code",
   "execution_count": 42,
   "id": "37573322",
   "metadata": {},
   "outputs": [],
   "source": [
    "def sun_jup_gan():\n",
    "    \n",
    "    Msun = 1.0|units.MSun\n",
    "    Mjup = 1.0|units.MJupiter\n",
    "    a_jup = 5.2|units.au\n",
    "    e_jup = 0.0\n",
    "    \n",
    "    system = new_binary_from_orbital_elements(Msun, Mjup, a_jup, e_jup, G=constants.G)\n",
    "    system[0].name = 'sun'\n",
    "    system[1].name = 'jupiter'\n",
    "    jupiter = system[system.name=='jupiter']\n",
    "    jupiter.semimajor_axis = a_jup\n",
    "    \n",
    "    a_gan = 1070400|units.km\n",
    "    e_gan = 0.6\n",
    "    i_gan = 60|units.deg\n",
    "    Mgan = 1.48E23|units.kg\n",
    "    binary = new_binary_from_orbital_elements(jupiter.mass, Mgan, a_gan, eccentricity=e_gan, inclination=i_gan, G=constants.G)\n",
    "    \n",
    "    ganymede = binary[1].as_set()\n",
    "    system.add_particle(binary[1])\n",
    "    system[2].name = 'ganymede'\n",
    "    ganymede = system[system.name=='ganymede']  \n",
    "    \n",
    "    ganymede.semimajor_axis = a_gan\n",
    "    ganymede.inclination = i_gan\n",
    "    ganymede.position = binary[1].position + jupiter.position\n",
    "    ganymede.velocity = binary[1].velocity + jupiter.velocity\n",
    "    \n",
    "    system.move_to_center()\n",
    "    \n",
    "    return system\n",
    "\n",
    "system = sun_jup_gan()"
   ]
  },
  {
   "cell_type": "code",
   "execution_count": 76,
   "id": "a5c64bc6",
   "metadata": {},
   "outputs": [],
   "source": [
    "# Integrate system over time\n",
    "def integrate_system(dt, end_time):\n",
    "    \n",
    "    system = sun_jup_gan()\n",
    "    \n",
    "    convert_nbody = nbody_system.nbody_to_si(system.mass.sum(), system[1].position.length())\n",
    "    \n",
    "    gravity = huayno(convert_nbody)\n",
    "    gravity.particles.add_particles(system)\n",
    "    \n",
    "    ecc = [] #eccentricity\n",
    "    inc = [] | units.deg #inclination\n",
    "    time = [] | units.yr\n",
    "    \n",
    "    channel = gravity.particles.new_channel_to(system)\n",
    "    \n",
    "    while gravity.model_time < end_time:\n",
    "        \n",
    "        orbit_ganymede = get_orbital_elements_from_binary(system[1:3], G=constants.G)\n",
    "        \n",
    "        gravity.evolve_model(gravity.model_time + (dt))\n",
    "        channel.copy()\n",
    "        \n",
    "        ecc.append(orbit_ganymede[3])\n",
    "        inc.append(orbit_ganymede[5])\n",
    "        time.append(gravity.model_time + (dt))\n",
    "        \n",
    "    gravity.stop()\n",
    "    \n",
    "    return ecc, inc, time"
   ]
  },
  {
   "cell_type": "code",
   "execution_count": null,
   "id": "f6deebdd",
   "metadata": {},
   "outputs": [],
   "source": [
    "ecc, inc, time = integrate_system(1|units.yr, 10000|units.yr)"
   ]
  },
  {
   "cell_type": "code",
   "execution_count": null,
   "id": "0c44a5ff",
   "metadata": {},
   "outputs": [],
   "source": [
    "# eccentricity as function of the orbital inclination\n",
    "def plot_track(ecc, inc, time):\n",
    "    \n",
    "    #plt.rcdefaults()\n",
    "    plt.rcParams.update({'font.size': 20})\n",
    "    fig, (ax1, ax2) = plt.subplots(1, 2, figsize=[30, 10])\n",
    "    \n",
    "    ax1.scatter(time.value_in(units.yr), inc.value_in(units.deg), color = 'b')\n",
    "    ax1.set_ylabel('Inclination [deg]')\n",
    "    ax1.set_xlabel('Time [years]')\n",
    "    \n",
    "    ax2.scatter(time.value_in(units.yr), np.array(ecc), color='g', lw=1)\n",
    "    ax2.set_ylabel('Eccentricity')\n",
    "    ax2.set_xlabel('Time [years]')\n",
    "   \n",
    "    plt.show()"
   ]
  },
  {
   "cell_type": "code",
   "execution_count": null,
   "id": "889dd886",
   "metadata": {},
   "outputs": [],
   "source": [
    "plot_track(ecc, inc, time)"
   ]
  }
 ],
 "metadata": {
  "kernelspec": {
   "display_name": "Python 3 (ipykernel)",
   "language": "python",
   "name": "python3"
  },
  "language_info": {
   "codemirror_mode": {
    "name": "ipython",
    "version": 3
   },
   "file_extension": ".py",
   "mimetype": "text/x-python",
   "name": "python",
   "nbconvert_exporter": "python",
   "pygments_lexer": "ipython3",
   "version": "3.8.10"
  }
 },
 "nbformat": 4,
 "nbformat_minor": 5
}
