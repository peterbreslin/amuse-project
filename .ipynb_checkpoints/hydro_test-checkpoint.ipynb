{
 "cells": [
  {
   "cell_type": "code",
   "execution_count": 1,
   "id": "dadacb1d",
   "metadata": {},
   "outputs": [],
   "source": [
    "from amuse.units import units\n",
    "import numpy as np\n",
    "import matplotlib.pyplot as plt\n",
    "from amuse.units import nbody_system\n",
    "from amuse.units import constants"
   ]
  },
  {
   "cell_type": "code",
   "execution_count": 2,
   "id": "63c8f703",
   "metadata": {},
   "outputs": [],
   "source": [
    "def drag_force (k, m, M, A, r, alpha):\n",
    "    #change in orbital velocity\n",
    "    dv_dt = -9*k*constants.G*m*(A**5)*np.sin(2*alpha)/(4*(r**7))\n",
    "    \n",
    "    #energy dissipation\n",
    "    dE_dt = -9*k*G**(3/2)*M**(1/2)*m**2*A**5*np.sin(2*alpha)/(2*r**(15/2))"
   ]
  }
 ],
 "metadata": {
  "kernelspec": {
   "display_name": "Python 3",
   "language": "python",
   "name": "python3"
  },
  "language_info": {
   "codemirror_mode": {
    "name": "ipython",
    "version": 3
   },
   "file_extension": ".py",
   "mimetype": "text/x-python",
   "name": "python",
   "nbconvert_exporter": "python",
   "pygments_lexer": "ipython3",
   "version": "3.8.8"
  }
 },
 "nbformat": 4,
 "nbformat_minor": 5
}
