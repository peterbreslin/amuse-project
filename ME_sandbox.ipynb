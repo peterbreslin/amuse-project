{
 "cells": [
  {
   "cell_type": "code",
   "execution_count": 1,
   "id": "b4bddba5",
   "metadata": {},
   "outputs": [],
   "source": [
    "import time\n",
    "import numpy as np\n",
    "import pandas as pd\n",
    "from amuse.lab import Particles\n",
    "from amuse.couple import bridge\n",
    "import matplotlib.pyplot as plt\n",
    "from amuse.units.constants import G\n",
    "from amuse.units import units, constants\n",
    "from amuse.lab import Huayno, nbody_system\n",
    "from amuse.community.ph4.interface import ph4\n",
    "from amuse.ext.orbital_elements import get_orbital_elements_from_binary\n",
    "from amuse.ext.orbital_elements import new_binary_from_orbital_elements"
   ]
  },
  {
   "cell_type": "code",
   "execution_count": 6,
   "id": "87fb037c",
   "metadata": {},
   "outputs": [
    {
     "data": {
      "text/plain": [
       "quantity<2.5 m**2 * kg * s**-2>"
      ]
     },
     "execution_count": 6,
     "metadata": {},
     "output_type": "execute_result"
    }
   ],
   "source": [
    "test_particles = Particles(3)\n",
    "test_particles[0].position = [0,0,0] | units.m\n",
    "test_particles[0].velocity = [0,0,0] | units.m/units.s\n",
    "test_particles[1].position = [1,0,0] | units.m\n",
    "test_particles[1].velocity = [0,2,0] | units.m/units.s\n",
    "test_particles[2].position = [0,3,0] | units.m\n",
    "test_particles[2].velocity = [-1,0,0] | units.m/units.s\n",
    "for i in range(3):\n",
    "    test_particles[i].mass = 1 |units.kg \n",
    "    \n",
    "E_kin = test_particles.kinetic_energy()\n",
    "E_pot = test_particles.potential_energy()\n",
    "\n",
    "test_particles.mass.value_in(units.kg)\n",
    "E_kin"
   ]
  },
  {
   "cell_type": "code",
   "execution_count": 17,
   "id": "e2411376",
   "metadata": {},
   "outputs": [],
   "source": [
    "#grav = Huayno()\n",
    "#grav.add_particles(test_particles)\n",
    "grav.stop()"
   ]
  },
  {
   "cell_type": "code",
   "execution_count": 5,
   "id": "11046516",
   "metadata": {},
   "outputs": [
    {
     "data": {
      "text/html": [
       "<div>\n",
       "<style scoped>\n",
       "    .dataframe tbody tr th:only-of-type {\n",
       "        vertical-align: middle;\n",
       "    }\n",
       "\n",
       "    .dataframe tbody tr th {\n",
       "        vertical-align: top;\n",
       "    }\n",
       "\n",
       "    .dataframe thead th {\n",
       "        text-align: right;\n",
       "    }\n",
       "</style>\n",
       "<table border=\"1\" class=\"dataframe\">\n",
       "  <thead>\n",
       "    <tr style=\"text-align: right;\">\n",
       "      <th></th>\n",
       "      <th>a</th>\n",
       "      <th>b</th>\n",
       "      <th>c</th>\n",
       "    </tr>\n",
       "  </thead>\n",
       "  <tbody>\n",
       "    <tr>\n",
       "      <th>0</th>\n",
       "      <td>0</td>\n",
       "      <td>2</td>\n",
       "      <td>2</td>\n",
       "    </tr>\n",
       "    <tr>\n",
       "      <th>1</th>\n",
       "      <td>1</td>\n",
       "      <td>3</td>\n",
       "      <td>5</td>\n",
       "    </tr>\n",
       "    <tr>\n",
       "      <th>2</th>\n",
       "      <td>2</td>\n",
       "      <td>4</td>\n",
       "      <td>6</td>\n",
       "    </tr>\n",
       "    <tr>\n",
       "      <th>3</th>\n",
       "      <td>3</td>\n",
       "      <td>5</td>\n",
       "      <td>2</td>\n",
       "    </tr>\n",
       "  </tbody>\n",
       "</table>\n",
       "</div>"
      ],
      "text/plain": [
       "   a  b  c\n",
       "0  0  2  2\n",
       "1  1  3  5\n",
       "2  2  4  6\n",
       "3  3  5  2"
      ]
     },
     "execution_count": 5,
     "metadata": {},
     "output_type": "execute_result"
    }
   ],
   "source": [
    "a = [0,1,2,3]\n",
    "b = [2,3,4,5]\n",
    "c = [2,5,6,2]\n",
    "\n",
    "df = pd.DataFrame({'a':a,\n",
    "                   'b':b,\n",
    "                   'c':c})\n",
    "df"
   ]
  },
  {
   "cell_type": "code",
   "execution_count": 10,
   "id": "a7c97ca8",
   "metadata": {},
   "outputs": [
    {
     "data": {
      "text/plain": [
       "quantity<[0, 1, 2, 3, 4, 5, 6, 7, 8, 9] yr>"
      ]
     },
     "execution_count": 10,
     "metadata": {},
     "output_type": "execute_result"
    }
   ],
   "source": [
    "end = 10|units.yr\n",
    "dt = 1|units.yr\n",
    "times = np.arange(0,end.value_in(units.yr),dt.value_in(units.yr))*1|units.yr\n",
    "times"
   ]
  },
  {
   "cell_type": "code",
   "execution_count": 31,
   "id": "f616c88e",
   "metadata": {},
   "outputs": [
    {
     "name": "stdout",
     "output_type": "stream",
     "text": [
      "Help on function energy_dissipation in module __main__:\n",
      "\n",
      "energy_dissipation(system, k=0.565, alpha=0.1)\n",
      "    Calculates the total energy dissipation due to the tidal force for a particle system. The second\n",
      "    particle in the particle set is the particle that exerts the tidal force.\n",
      "\n"
     ]
    }
   ],
   "source": [
    "def energy_dissipation(system,k=0.565,alpha=0.1):\n",
    "    \"\"\" Calculates the total energy dissipation due to the tidal force for a particle system. The second\n",
    "    particle in the particle set is the particle that exerts the tidal force.\"\"\"\n",
    "    #defining some constants\n",
    "    R = (1|units.RJupiter).value_in(units.m) #radius of Jupiter\n",
    "    M = (1|units.MJupiter).value_in(units.kg)\n",
    "    G = constants.G.value_in( (units.m)**3 / (units.kg * units.s**2) )\n",
    "    \n",
    "    #getting some parameters/values from the particle set\n",
    "    m = system.mass.value_in(units.kg)\n",
    "    r = np.sqrt(np.sum(np.square(system.position.value_in(units.m) - \\\n",
    "                                 system[1].position.value_in(units.m)), axis=1))\n",
    "    \n",
    "    #to exclude the force of Jupiter on itself\n",
    "    mask = np.arange(len(system)) != 1\n",
    "    \n",
    "    #the energy dissipation\n",
    "    dE_dt = -9*k*G**(3/2)*M**(1/2)*m[mask]**2*R**5*np.sin(2*alpha)/(2*r[mask]**(15/2))\n",
    "    \n",
    "    return np.sum(dE_dt) * 1|units.J/units.s\n",
    "\n",
    "def get_energies(system,timestep,k=0.565,alpha=0.1,):\n",
    "    \"\"\" Calculates the total energy of the system, along with the energy dissipation.\"\"\"\n",
    "    #getting the kinetic and potential energy from the particle system\n",
    "    E_kin = system.kinetic_energy()\n",
    "    E_pot = system.potential_energy()\n",
    "    E_tot = E_kin + E_pot\n",
    "    \n",
    "    #getting the energy dissipation\n",
    "    dE_dt = energy_dissipation(system)\n",
    "    #getting the total dissipated energy in the following timestep\n",
    "    dE = dE_dt*timestep\n",
    "    \n",
    "    return E_tot, dE\n",
    "\n",
    "#get_energies(test_particles,10|units.s)\n",
    "help(energy_dissipation)"
   ]
  }
 ],
 "metadata": {
  "kernelspec": {
   "display_name": "Python 3",
   "language": "python",
   "name": "python3"
  },
  "language_info": {
   "codemirror_mode": {
    "name": "ipython",
    "version": 3
   },
   "file_extension": ".py",
   "mimetype": "text/x-python",
   "name": "python",
   "nbconvert_exporter": "python",
   "pygments_lexer": "ipython3",
   "version": "3.8.8"
  }
 },
 "nbformat": 4,
 "nbformat_minor": 5
}
