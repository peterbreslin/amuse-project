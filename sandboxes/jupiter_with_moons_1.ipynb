{
 "cells": [
  {
   "cell_type": "code",
   "execution_count": 13,
   "id": "22793852",
   "metadata": {},
   "outputs": [],
   "source": [
    "from amuse.units import units\n",
    "import numpy as np\n",
    "import matplotlib.pyplot as plt\n",
    "from amuse.community.ph4.interface import ph4\n",
    "from amuse.units import nbody_system\n",
    "from amuse.lab import Particles\n",
    "from amuse.units import constants\n",
    "from amuse.ext import orbital_elements\n",
    "from amuse.datamodel.particle_attributes import *"
   ]
  },
  {
   "cell_type": "code",
   "execution_count": 2,
   "id": "18c1729d",
   "metadata": {},
   "outputs": [],
   "source": [
    "def relative_orbital_velocity(mass, distance):\n",
    "    return (constants.G*mass/distance).sqrt()"
   ]
  },
  {
   "cell_type": "code",
   "execution_count": 63,
   "id": "95a0dc62",
   "metadata": {},
   "outputs": [],
   "source": [
    "system = Particles(3)\n",
    "\n",
    "#sun\n",
    "system[0].name = 'sun'\n",
    "sun = system[0]\n",
    "sun.mass = 1 | units.MSun\n",
    "sun.position = (0,0,0) | units.au\n",
    "sun.velocity = (0,0,0) | units.kms\n",
    "\n",
    "#jupiter\n",
    "system[1].name = 'jupiter'\n",
    "jupiter = system[1]\n",
    "jupiter.mass = 1 | units.MJupiter\n",
    "jupiter.position = (5.2,0,0) | units.au\n",
    "jup_speed = relative_orbital_velocity(sun.mass+jupiter.mass,\\\n",
    "                                      5.2 | units.au)\n",
    "jupiter.velocity = (0,1.,0) * jup_speed \n",
    "\n",
    "#moon 1\n",
    "io_mass = 8.9319e22 | units.kg\n",
    "moon_system = orbital_elements.new_binary_from_orbital_elements(\\\n",
    "                               system[1].mass,io_mass,\\\n",
    "                               semimajor_axis = 421.7e3 | units.km,\\\n",
    "                               true_anomaly = 0 | units.deg,\\\n",
    "                               inclination = 10 | units.deg,\\\n",
    "                               eccentricity = 0.05,\\\n",
    "                               G = constants.G)\n",
    "\n",
    "system[2].name = 'io'\n",
    "system[2].mass = io_mass\n",
    "system[2].position = moon_system[1].position + jupiter.position\n",
    "system[2].velocity = moon_system[1].velocity + jupiter.velocity\n",
    "\n",
    "system.move_to_center()"
   ]
  },
  {
   "cell_type": "code",
   "execution_count": 64,
   "id": "7a432450",
   "metadata": {},
   "outputs": [
    {
     "name": "stdout",
     "output_type": "stream",
     "text": [
      "                 key         mass         name           vx           vy           vz            x            y            z\n",
      "                   -         MSun         none          kms          kms          kms           au           au           au\n",
      "====================  ===========  ===========  ===========  ===========  ===========  ===========  ===========  ===========\n",
      "  518719258465286262    1.000e+00          sun    0.000e+00   -1.247e-02   -1.420e-07   -4.960e-03    0.000e+00    0.000e+00\n",
      "11391631104792617292    9.546e-04      jupiter    0.000e+00    1.306e+01   -1.420e-07    5.195e+00    0.000e+00    0.000e+00\n",
      " 9955171502731204168    4.491e-08           io    0.000e+00    3.100e+01    3.165e+00    5.198e+00    0.000e+00    0.000e+00\n",
      "====================  ===========  ===========  ===========  ===========  ===========  ===========  ===========  ===========\n"
     ]
    }
   ],
   "source": [
    "print(system)"
   ]
  },
  {
   "cell_type": "code",
   "execution_count": 65,
   "id": "0b81590f",
   "metadata": {},
   "outputs": [
    {
     "name": "stdout",
     "output_type": "stream",
     "text": [
      "0.0 s\n",
      "378684761.996 s\n",
      "757367710.134 s\n",
      "1136049751.34 s\n",
      "1514735420.27 s\n",
      "1893416554.55 s\n",
      "2272099502.68 s\n",
      "2650782450.82 s\n",
      "3029465398.96 s\n",
      "3408150160.96 s\n",
      "3786831295.23 s\n",
      "4165514243.37 s\n",
      "4544198098.44 s\n",
      "4922881046.58 s\n",
      "5301564901.64 s\n",
      "5680246942.85 s\n",
      "6058930797.92 s\n",
      "6437613746.06 s\n",
      "6816296694.19 s\n",
      "7194979642.33 s\n",
      "7573662590.47 s\n",
      "7952345538.61 s\n",
      "8331028486.74 s\n",
      "8709712341.81 s\n",
      "9088396196.88 s\n",
      "9467078238.08 s\n",
      "9845761186.22 s\n",
      "10224445041.3 s\n",
      "10603127989.4 s\n",
      "10981810937.6 s\n",
      "11360493885.7 s\n",
      "11739176833.8 s\n",
      "12117859782.0 s\n",
      "12496542730.1 s\n",
      "12875227492.1 s\n",
      "13253909533.3 s\n",
      "13632592481.5 s\n",
      "14011276336.5 s\n",
      "14389959284.7 s\n",
      "14768642232.8 s\n",
      "15147325180.9 s\n",
      "15526007675.6 s\n"
     ]
    }
   ],
   "source": [
    "converter = nbody_system.nbody_to_si(system.mass.sum(),\\\n",
    "                                     system[1].position.sum())\n",
    "\n",
    "dt = 12 \n",
    "end_time = 500\n",
    "times = np.arange(0,end_time,dt) | units.yr\n",
    "\n",
    "#initializing the gravity solver\n",
    "gravity = ph4(converter)\n",
    "\n",
    "#adding the exo-moon system\n",
    "gravity.particles.add_particles(system)\n",
    "\n",
    "#building a channel to the system\n",
    "channel = gravity.particles.new_channel_to(system)\n",
    "\n",
    "inclination = []\n",
    "semimajor_axis = []\n",
    "eccentricity = []\n",
    "E_tot = []\n",
    "\n",
    "for time in times:\n",
    "    gravity.evolve_model(time)\n",
    "    channel.copy()\n",
    "    \n",
    "    orb_elements = orbital_elements.get_orbital_elements_from_binary(system[1:3],G=constants.G)\n",
    "    semimajor_axis.append(orb_elements[2].value_in(units.m))\n",
    "    eccentricity.append(orb_elements[3])\n",
    "    inclination.append(orb_elements[5])\n",
    "    \n",
    "    E_tot.append(kinetic_energy(system) + potential_energy(system,G=constants.G))\n",
    "    \n",
    "gravity.stop()\n",
    "\n",
    "incl_array = np.array(np.array(inclination)/(1|units.rad),dtype=float)"
   ]
  },
  {
   "cell_type": "code",
   "execution_count": 68,
   "id": "7d6d1cd7",
   "metadata": {},
   "outputs": [
    {
     "data": {
      "image/png": "[encoded data removed]",
      "text/plain": [
       "<Figure size 432x288 with 2 Axes>"
      ]
     },
     "metadata": {
      "needs_background": "light"
     },
     "output_type": "display_data"
    },
    {
     "data": {
      "text/plain": [
       "<matplotlib.collections.PathCollection at 0x7fece0db3070>"
      ]
     },
     "execution_count": 68,
     "metadata": {},
     "output_type": "execute_result"
    },
    {
     "data": {
      "image/png": "[encoded data removed]",
      "text/plain": [
       "<Figure size 432x288 with 1 Axes>"
      ]
     },
     "metadata": {
      "needs_background": "light"
     },
     "output_type": "display_data"
    }
   ],
   "source": [
    "fig, ax = plt.subplots()\n",
    "ax.scatter(times.value_in(units.yr),eccentricity)\n",
    "ax.set_xlabel('time (yr)')\n",
    "ax.set_ylabel('eccentricity',color='tab:blue')\n",
    "\n",
    "ax2 = ax.twinx()\n",
    "ax2.scatter(times.value_in(units.yr),incl_array,color='tab:orange')\n",
    "ax2.set_ylabel('cosine inclination',color='tab:orange')\n",
    "\n",
    "\n",
    "plt.show()\n",
    "\n",
    "plt.figure()\n",
    "plt.scatter(times.value_in(units.yr),semimajor_axis)"
   ]
  }
 ],
 "metadata": {
  "kernelspec": {
   "display_name": "Python 3",
   "language": "python",
   "name": "python3"
  },
  "language_info": {
   "codemirror_mode": {
    "name": "ipython",
    "version": 3
   },
   "file_extension": ".py",
   "mimetype": "text/x-python",
   "name": "python",
   "nbconvert_exporter": "python",
   "pygments_lexer": "ipython3",
   "version": "3.8.8"
  }
 },
 "nbformat": 4,
 "nbformat_minor": 5
}
