{
 "cells": [
  {
   "cell_type": "code",
   "execution_count": 13,
   "id": "a01aec7e",
   "metadata": {},
   "outputs": [],
   "source": [
    "from amuse.units import units\n",
    "import numpy as np\n",
    "import matplotlib.pyplot as plt\n",
    "from amuse.units import nbody_system\n",
    "from amuse.units import constants\n",
    "from amuse.lab import Particles"
   ]
  },
  {
   "cell_type": "code",
   "execution_count": 2,
   "id": "7c76d0ac",
   "metadata": {},
   "outputs": [],
   "source": [
    "def drag_force (k, m, M, A, r, alpha):\n",
    "    #change in orbital velocity\n",
    "    dv_dt = -9*k*constants.G*m*(A**5)*np.sin(2*alpha)/(4*(r**7))\n",
    "    \n",
    "    #energy dissipation\n",
    "    dE_dt = -9*k*G**(3/2)*M**(1/2)*m**2*A**5*np.sin(2*alpha)/(2*r**(15/2))"
   ]
  },
  {
   "cell_type": "code",
   "execution_count": 48,
   "id": "4be6ac4b",
   "metadata": {},
   "outputs": [],
   "source": [
    "class TidalForce ():\n",
    "    def __init__(self):\n",
    "        pass\n",
    "    \n",
    "    def add_particles(self, particle_set):\n",
    "        self.particles = particle_set\n",
    "    \n",
    "    def tidal_acceleration(self, k, alpha):\n",
    "        A = 4*np.pi*np.square(((1|units.RJupiter).value_in(units.m)))\n",
    "        M = (1|units.MJupiter).value_in(units.kg)\n",
    "        G = constants.G.value_in((units.m)**3/(units.kg*units.s**2))\n",
    "        \n",
    "        r = np.sqrt(np.sum(np.square(self.particles.position - self.particles[1].position),axis=1))\n",
    "        \n",
    "        abs_vel = np.sqrt(np.sum(np.square(self.particles.velocity),axis=1))\n",
    "        \n",
    "        abs_acc = np.zeros(len(self.particles))\n",
    "        mask = np.arange(len(self.particles)) != 1\n",
    "        abs_acc[mask] = -9*k*G*self.particles.mass[mask]*(A**5)*np.sin(2*alpha)/(4*r[mask]**7)\n",
    "                \n",
    "        ax = abs_acc*(self.particles.vx/abs_vel)\n",
    "        ay = abs_acc*(self.particles.vy/abs_vel)\n",
    "        az = abs_acc*(self.particles.vz/abs_vel)\n",
    "        return ax, ay, az\n",
    "    \n",
    "    def get_gravity_at_point(self, eps, x, y, z):\n",
    "        #k from literature, alpha guess\n",
    "        return self.tidal_acceleration(k=0.565, alpha=0.1)"
   ]
  },
  {
   "cell_type": "code",
   "execution_count": 49,
   "id": "b1afcf4b",
   "metadata": {},
   "outputs": [],
   "source": [
    "test = Particles(2)\n",
    "test[0].position = (1,2,3)\n",
    "test[0].velocity = (1,1,1)\n",
    "test[0].mass = 1\n",
    "test[1].mass = 2\n",
    "test[1].position = (10,11,12)\n",
    "test[1].velocity = (2,3,2)"
   ]
  },
  {
   "cell_type": "code",
   "execution_count": 50,
   "id": "fbb44b97",
   "metadata": {},
   "outputs": [
    {
     "data": {
      "text/plain": [
       "(array([ -4.75562300e+64,   0.00000000e+00]),\n",
       " array([ -4.75562300e+64,   0.00000000e+00]),\n",
       " array([ -4.75562300e+64,   0.00000000e+00]))"
      ]
     },
     "execution_count": 50,
     "metadata": {},
     "output_type": "execute_result"
    }
   ],
   "source": [
    "test_hydro_code = TidalForce()\n",
    "test_hydro_code.add_particles(test)\n",
    "test_hydro_code.get_gravity_at_point(0,0,0,0)"
   ]
  },
  {
   "cell_type": "code",
   "execution_count": null,
   "id": "568d6652",
   "metadata": {},
   "outputs": [],
   "source": []
  }
 ],
 "metadata": {
  "kernelspec": {
   "display_name": "Python 3",
   "language": "python",
   "name": "python3"
  },
  "language_info": {
   "codemirror_mode": {
    "name": "ipython",
    "version": 3
   },
   "file_extension": ".py",
   "mimetype": "text/x-python",
   "name": "python",
   "nbconvert_exporter": "python",
   "pygments_lexer": "ipython3",
   "version": "3.8.8"
  }
 },
 "nbformat": 4,
 "nbformat_minor": 5
}
