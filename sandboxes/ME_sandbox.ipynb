{
 "cells": [
  {
   "cell_type": "code",
   "execution_count": 7,
   "id": "b4bddba5",
   "metadata": {},
   "outputs": [],
   "source": [
    "import time\n",
    "import numpy as np\n",
    "import pandas as pd\n",
    "from amuse.lab import Particles\n",
    "from amuse.couple import bridge\n",
    "import matplotlib.pyplot as plt\n",
    "from amuse.units.constants import G\n",
    "from amuse.units import units, constants\n",
    "from amuse.lab import Huayno, nbody_system\n",
    "from amuse.community.ph4.interface import ph4\n",
    "from amuse.ext.orbital_elements import get_orbital_elements_from_binary\n",
    "from amuse.ext.orbital_elements import new_binary_from_orbital_elements"
   ]
  },
  {
   "cell_type": "code",
   "execution_count": 2,
   "id": "87fb037c",
   "metadata": {},
   "outputs": [
    {
     "name": "stdout",
     "output_type": "stream",
     "text": [
      "[1.0, 2.0, 3.0] m\n",
      "[[0.0, 0.0, 0.0], [1.0, 0.0, 0.0], [0.0, 3.0, 0.0]] m\n",
      "[[ 0.   0.   0. ]\n",
      " [ 0.5  0.   0. ]\n",
      " [ 0.   1.   0. ]]\n"
     ]
    }
   ],
   "source": [
    "test_particles = Particles(3)\n",
    "test_particles[0].position = [0,0,0] | units.m\n",
    "test_particles[0].velocity = [0,0,0] | units.m/units.s\n",
    "test_particles[1].position = [1,0,0] | units.m\n",
    "test_particles[1].velocity = [0,2,0] | units.m/units.s\n",
    "test_particles[2].position = [0,3,0] | units.m\n",
    "test_particles[2].velocity = [-1,0,0] | units.m/units.s\n",
    "for i in range(3):\n",
    "    test_particles[i].mass = 1 |units.kg \n",
    "    test_particles[i].name = str(i)\n",
    "    \n",
    "E_kin = test_particles.kinetic_energy()\n",
    "E_pot = test_particles.potential_energy()\n",
    "\n",
    "test_particles.mass.value_in(units.kg)\n",
    "E_kin\n",
    "\n",
    "test_particles[0].radius = 1 | units.m \n",
    "test_particles[1].radius = 2 | units.m\n",
    "test_particles[2].radius = 3 | units.m \n",
    "\n",
    "print(test_particles.radius)\n",
    "print(test_particles.position)\n",
    "print(test_particles.position/test_particles.radius.reshape((3,1)))"
   ]
  },
  {
   "cell_type": "code",
   "execution_count": 10,
   "id": "c2419cb3",
   "metadata": {},
   "outputs": [
    {
     "ename": "AttributeError",
     "evalue": "module 'amuse.couple.bridge' has no attribute 'info'",
     "output_type": "error",
     "traceback": [
      "\u001b[0;31m---------------------------------------------------------------------------\u001b[0m",
      "\u001b[0;31mAttributeError\u001b[0m                            Traceback (most recent call last)",
      "\u001b[0;32m<ipython-input-10-05d24cae60a3>\u001b[0m in \u001b[0;36m<module>\u001b[0;34m\u001b[0m\n\u001b[0;32m----> 1\u001b[0;31m \u001b[0mbridge\u001b[0m\u001b[0;34m.\u001b[0m\u001b[0minfo\u001b[0m\u001b[0;34m\u001b[0m\u001b[0;34m\u001b[0m\u001b[0m\n\u001b[0m",
      "\u001b[0;31mAttributeError\u001b[0m: module 'amuse.couple.bridge' has no attribute 'info'"
     ]
    }
   ],
   "source": []
  },
  {
   "cell_type": "code",
   "execution_count": 4,
   "id": "034874a9",
   "metadata": {},
   "outputs": [
    {
     "name": "stdout",
     "output_type": "stream",
     "text": [
      "                 key         mass         name           vx           vy           vz            x            y            z\n",
      "                   -           kg         none        m / s        m / s        m / s            m            m            m\n",
      "====================  ===========  ===========  ===========  ===========  ===========  ===========  ===========  ===========\n",
      " 5729052259097987684    1.000e+00            0    0.000e+00    0.000e+00    0.000e+00    0.000e+00    0.000e+00    0.000e+00\n",
      " 6903053455073453869    1.000e+00            2   -1.000e+00    0.000e+00    0.000e+00    0.000e+00    3.000e+00    0.000e+00\n",
      "====================  ===========  ===========  ===========  ===========  ===========  ===========  ===========  ===========\n"
     ]
    }
   ],
   "source": [
    "print(test_particles[test_particles.name!=str(1)])"
   ]
  },
  {
   "cell_type": "code",
   "execution_count": 8,
   "id": "29fcf162",
   "metadata": {},
   "outputs": [
    {
     "ename": "AttributeError",
     "evalue": "You tried to access attribute 'add_attribute' but this attribute is not defined for this set.",
     "output_type": "error",
     "traceback": [
      "\u001b[0;31m---------------------------------------------------------------------------\u001b[0m",
      "\u001b[0;31mAttributeError\u001b[0m                            Traceback (most recent call last)",
      "\u001b[0;32m~/anaconda3/lib/python3.8/site-packages/amuse/datamodel/base.py\u001b[0m in \u001b[0;36m__getattr__\u001b[0;34m(self, name_of_the_attribute)\u001b[0m\n\u001b[1;32m    766\u001b[0m                 return self._convert_to_entities_or_quantities(\n\u001b[0;32m--> 767\u001b[0;31m                     \u001b[0mself\u001b[0m\u001b[0;34m.\u001b[0m\u001b[0mget_all_values_of_attribute_in_store\u001b[0m\u001b[0;34m(\u001b[0m\u001b[0mname_of_the_attribute\u001b[0m\u001b[0;34m)\u001b[0m\u001b[0;34m\u001b[0m\u001b[0;34m\u001b[0m\u001b[0m\n\u001b[0m\u001b[1;32m    768\u001b[0m                 )\n",
      "\u001b[0;32m~/anaconda3/lib/python3.8/site-packages/amuse/datamodel/particles.py\u001b[0m in \u001b[0;36mget_all_values_of_attribute_in_store\u001b[0;34m(self, attribute)\u001b[0m\n\u001b[1;32m   1099\u001b[0m     \u001b[0;32mdef\u001b[0m \u001b[0mget_all_values_of_attribute_in_store\u001b[0m\u001b[0;34m(\u001b[0m\u001b[0mself\u001b[0m\u001b[0;34m,\u001b[0m \u001b[0mattribute\u001b[0m\u001b[0;34m)\u001b[0m\u001b[0;34m:\u001b[0m\u001b[0;34m\u001b[0m\u001b[0;34m\u001b[0m\u001b[0m\n\u001b[0;32m-> 1100\u001b[0;31m         \u001b[0;32mreturn\u001b[0m \u001b[0mself\u001b[0m\u001b[0;34m.\u001b[0m\u001b[0mget_values_in_store\u001b[0m\u001b[0;34m(\u001b[0m\u001b[0;32mNone\u001b[0m\u001b[0;34m,\u001b[0m \u001b[0;34m[\u001b[0m\u001b[0mattribute\u001b[0m\u001b[0;34m]\u001b[0m\u001b[0;34m)\u001b[0m\u001b[0;34m[\u001b[0m\u001b[0;36m0\u001b[0m\u001b[0;34m]\u001b[0m\u001b[0;34m\u001b[0m\u001b[0;34m\u001b[0m\u001b[0m\n\u001b[0m\u001b[1;32m   1101\u001b[0m \u001b[0;34m\u001b[0m\u001b[0m\n",
      "\u001b[0;32m~/anaconda3/lib/python3.8/site-packages/amuse/datamodel/particles.py\u001b[0m in \u001b[0;36mget_values_in_store\u001b[0;34m(self, indices, attributes)\u001b[0m\n\u001b[1;32m   1358\u001b[0m         \u001b[0msubset\u001b[0m \u001b[0;34m=\u001b[0m \u001b[0mself\u001b[0m\u001b[0;34m[\u001b[0m\u001b[0mindices\u001b[0m\u001b[0;34m]\u001b[0m\u001b[0;34m\u001b[0m\u001b[0;34m\u001b[0m\u001b[0m\n\u001b[0;32m-> 1359\u001b[0;31m         \u001b[0mtmp\u001b[0m \u001b[0;34m=\u001b[0m \u001b[0;34m[\u001b[0m\u001b[0mdefined_values\u001b[0m\u001b[0;34m[\u001b[0m\u001b[0mattribute\u001b[0m\u001b[0;34m]\u001b[0m \u001b[0;32mif\u001b[0m \u001b[0mattribute\u001b[0m \u001b[0;32min\u001b[0m \u001b[0mdefined_values\u001b[0m \u001b[0;32melse\u001b[0m \u001b[0msubset\u001b[0m\u001b[0;34m.\u001b[0m\u001b[0m_get_derived_attribute_value\u001b[0m\u001b[0;34m(\u001b[0m\u001b[0mattribute\u001b[0m\u001b[0;34m)\u001b[0m \u001b[0;32mfor\u001b[0m \u001b[0mattribute\u001b[0m \u001b[0;32min\u001b[0m \u001b[0mattributes\u001b[0m\u001b[0;34m]\u001b[0m\u001b[0;34m\u001b[0m\u001b[0;34m\u001b[0m\u001b[0m\n\u001b[0m\u001b[1;32m   1360\u001b[0m         \u001b[0;32mreturn\u001b[0m \u001b[0mtmp\u001b[0m\u001b[0;34m\u001b[0m\u001b[0;34m\u001b[0m\u001b[0m\n",
      "\u001b[0;32m~/anaconda3/lib/python3.8/site-packages/amuse/datamodel/particles.py\u001b[0m in \u001b[0;36m<listcomp>\u001b[0;34m(.0)\u001b[0m\n\u001b[1;32m   1358\u001b[0m         \u001b[0msubset\u001b[0m \u001b[0;34m=\u001b[0m \u001b[0mself\u001b[0m\u001b[0;34m[\u001b[0m\u001b[0mindices\u001b[0m\u001b[0;34m]\u001b[0m\u001b[0;34m\u001b[0m\u001b[0;34m\u001b[0m\u001b[0m\n\u001b[0;32m-> 1359\u001b[0;31m         \u001b[0mtmp\u001b[0m \u001b[0;34m=\u001b[0m \u001b[0;34m[\u001b[0m\u001b[0mdefined_values\u001b[0m\u001b[0;34m[\u001b[0m\u001b[0mattribute\u001b[0m\u001b[0;34m]\u001b[0m \u001b[0;32mif\u001b[0m \u001b[0mattribute\u001b[0m \u001b[0;32min\u001b[0m \u001b[0mdefined_values\u001b[0m \u001b[0;32melse\u001b[0m \u001b[0msubset\u001b[0m\u001b[0;34m.\u001b[0m\u001b[0m_get_derived_attribute_value\u001b[0m\u001b[0;34m(\u001b[0m\u001b[0mattribute\u001b[0m\u001b[0;34m)\u001b[0m \u001b[0;32mfor\u001b[0m \u001b[0mattribute\u001b[0m \u001b[0;32min\u001b[0m \u001b[0mattributes\u001b[0m\u001b[0;34m]\u001b[0m\u001b[0;34m\u001b[0m\u001b[0;34m\u001b[0m\u001b[0m\n\u001b[0m\u001b[1;32m   1360\u001b[0m         \u001b[0;32mreturn\u001b[0m \u001b[0mtmp\u001b[0m\u001b[0;34m\u001b[0m\u001b[0;34m\u001b[0m\u001b[0m\n",
      "\u001b[0;32m~/anaconda3/lib/python3.8/site-packages/amuse/datamodel/base.py\u001b[0m in \u001b[0;36m_get_derived_attribute_value\u001b[0;34m(self, name_of_the_attribute)\u001b[0m\n\u001b[1;32m    779\u001b[0m         \u001b[0;32melse\u001b[0m\u001b[0;34m:\u001b[0m\u001b[0;34m\u001b[0m\u001b[0;34m\u001b[0m\u001b[0m\n\u001b[0;32m--> 780\u001b[0;31m             raise AttributeError(\"You tried to access attribute '{0}'\"\n\u001b[0m\u001b[1;32m    781\u001b[0m                 \" but this attribute is not defined for this set.\".format(name_of_the_attribute))\n",
      "\u001b[0;31mAttributeError\u001b[0m: You tried to access attribute 'add_attribute' but this attribute is not defined for this set.",
      "\nDuring handling of the above exception, another exception occurred:\n",
      "\u001b[0;31mAttributeError\u001b[0m                            Traceback (most recent call last)",
      "\u001b[0;32m<ipython-input-8-c23521751074>\u001b[0m in \u001b[0;36m<module>\u001b[0;34m\u001b[0m\n\u001b[0;32m----> 1\u001b[0;31m \u001b[0mtest_particles\u001b[0m\u001b[0;34m.\u001b[0m\u001b[0madd_attribute\u001b[0m\u001b[0;34m(\u001b[0m\u001b[0;34m)\u001b[0m\u001b[0;34m\u001b[0m\u001b[0;34m\u001b[0m\u001b[0m\n\u001b[0m",
      "\u001b[0;32m~/anaconda3/lib/python3.8/site-packages/amuse/datamodel/base.py\u001b[0m in \u001b[0;36m__getattr__\u001b[0;34m(self, name_of_the_attribute)\u001b[0m\n\u001b[1;32m    771\u001b[0m                     \u001b[0;32mraise\u001b[0m\u001b[0;34m\u001b[0m\u001b[0;34m\u001b[0m\u001b[0m\n\u001b[1;32m    772\u001b[0m                 \u001b[0;32melse\u001b[0m\u001b[0;34m:\u001b[0m\u001b[0;34m\u001b[0m\u001b[0;34m\u001b[0m\u001b[0m\n\u001b[0;32m--> 773\u001b[0;31m                     raise AttributeError(\"You tried to access attribute '{0}'\"\n\u001b[0m\u001b[1;32m    774\u001b[0m                         \" but this attribute is not defined for this set.\".format(name_of_the_attribute))\n\u001b[1;32m    775\u001b[0m \u001b[0;34m\u001b[0m\u001b[0m\n",
      "\u001b[0;31mAttributeError\u001b[0m: You tried to access attribute 'add_attribute' but this attribute is not defined for this set."
     ]
    }
   ],
   "source": []
  },
  {
   "cell_type": "code",
   "execution_count": 5,
   "id": "11046516",
   "metadata": {},
   "outputs": [
    {
     "data": {
      "text/html": [
       "<div>\n",
       "<style scoped>\n",
       "    .dataframe tbody tr th:only-of-type {\n",
       "        vertical-align: middle;\n",
       "    }\n",
       "\n",
       "    .dataframe tbody tr th {\n",
       "        vertical-align: top;\n",
       "    }\n",
       "\n",
       "    .dataframe thead th {\n",
       "        text-align: right;\n",
       "    }\n",
       "</style>\n",
       "<table border=\"1\" class=\"dataframe\">\n",
       "  <thead>\n",
       "    <tr style=\"text-align: right;\">\n",
       "      <th></th>\n",
       "      <th>a</th>\n",
       "      <th>b</th>\n",
       "      <th>c</th>\n",
       "    </tr>\n",
       "  </thead>\n",
       "  <tbody>\n",
       "    <tr>\n",
       "      <th>0</th>\n",
       "      <td>0</td>\n",
       "      <td>2</td>\n",
       "      <td>2</td>\n",
       "    </tr>\n",
       "    <tr>\n",
       "      <th>1</th>\n",
       "      <td>1</td>\n",
       "      <td>3</td>\n",
       "      <td>5</td>\n",
       "    </tr>\n",
       "    <tr>\n",
       "      <th>2</th>\n",
       "      <td>2</td>\n",
       "      <td>4</td>\n",
       "      <td>6</td>\n",
       "    </tr>\n",
       "    <tr>\n",
       "      <th>3</th>\n",
       "      <td>3</td>\n",
       "      <td>5</td>\n",
       "      <td>2</td>\n",
       "    </tr>\n",
       "  </tbody>\n",
       "</table>\n",
       "</div>"
      ],
      "text/plain": [
       "   a  b  c\n",
       "0  0  2  2\n",
       "1  1  3  5\n",
       "2  2  4  6\n",
       "3  3  5  2"
      ]
     },
     "execution_count": 5,
     "metadata": {},
     "output_type": "execute_result"
    }
   ],
   "source": [
    "a = [0,1,2,3]\n",
    "b = [2,3,4,5]\n",
    "c = [2,5,6,2]\n",
    "\n",
    "df = pd.DataFrame({'a':a,\n",
    "                   'b':b,\n",
    "                   'c':c})\n",
    "df"
   ]
  },
  {
   "cell_type": "code",
   "execution_count": 10,
   "id": "a7c97ca8",
   "metadata": {},
   "outputs": [
    {
     "data": {
      "text/plain": [
       "quantity<[0, 1, 2, 3, 4, 5, 6, 7, 8, 9] yr>"
      ]
     },
     "execution_count": 10,
     "metadata": {},
     "output_type": "execute_result"
    }
   ],
   "source": [
    "end = 10|units.yr\n",
    "dt = 1|units.yr\n",
    "times = np.arange(0,end.value_in(units.yr),dt.value_in(units.yr))*1|units.yr\n",
    "times"
   ]
  },
  {
   "cell_type": "code",
   "execution_count": 31,
   "id": "f616c88e",
   "metadata": {},
   "outputs": [
    {
     "name": "stdout",
     "output_type": "stream",
     "text": [
      "Help on function energy_dissipation in module __main__:\n",
      "\n",
      "energy_dissipation(system, k=0.565, alpha=0.1)\n",
      "    Calculates the total energy dissipation due to the tidal force for a particle system. The second\n",
      "    particle in the particle set is the particle that exerts the tidal force.\n",
      "\n"
     ]
    }
   ],
   "source": [
    "def energy_dissipation(system,k=0.565,alpha=0.1):\n",
    "    \"\"\" Calculates the total energy dissipation due to the tidal force for a particle system. The second\n",
    "    particle in the particle set is the particle that exerts the tidal force.\"\"\"\n",
    "    #defining some constants\n",
    "    R = (1|units.RJupiter).value_in(units.m) #radius of Jupiter\n",
    "    M = (1|units.MJupiter).value_in(units.kg)\n",
    "    G = constants.G.value_in( (units.m)**3 / (units.kg * units.s**2) )\n",
    "    \n",
    "    #getting some parameters/values from the particle set\n",
    "    m = system.mass.value_in(units.kg)\n",
    "    r = np.sqrt(np.sum(np.square(system.position.value_in(units.m) - \\\n",
    "                                 system[1].position.value_in(units.m)), axis=1))\n",
    "    \n",
    "    #to exclude the force of Jupiter on itself\n",
    "    mask = np.arange(len(system)) != 1\n",
    "    \n",
    "    #the energy dissipation\n",
    "    dE_dt = -9*k*G**(3/2)*M**(1/2)*m[mask]**2*R**5*np.sin(2*alpha)/(2*r[mask]**(15/2))\n",
    "    \n",
    "    return np.sum(dE_dt) * 1|units.J/units.s\n",
    "\n",
    "def get_energies(system,timestep,k=0.565,alpha=0.1,):\n",
    "    \"\"\" Calculates the total energy of the system, along with the energy dissipation.\"\"\"\n",
    "    #getting the kinetic and potential energy from the particle system\n",
    "    E_kin = system.kinetic_energy()\n",
    "    E_pot = system.potential_energy()\n",
    "    E_tot = E_kin + E_pot\n",
    "    \n",
    "    #getting the energy dissipation\n",
    "    dE_dt = energy_dissipation(system)\n",
    "    #getting the total dissipated energy in the following timestep\n",
    "    dE = dE_dt*timestep\n",
    "    \n",
    "    return E_tot, dE\n",
    "\n",
    "#get_energies(test_particles,10|units.s)\n",
    "help(energy_dissipation)"
   ]
  },
  {
   "cell_type": "code",
   "execution_count": null,
   "id": "922108fd",
   "metadata": {},
   "outputs": [],
   "source": [
    "# Tidal forces\n",
    "class TidalForce():\n",
    "    def __init__(self, alpha=0.1, method='simple'):\n",
    "        self.alpha=alpha\n",
    "        self.method=method\n",
    "        \n",
    "    \n",
    "    def add_particles(self, particle_set):\n",
    "        self.particles = particle_set\n",
    "    \n",
    "    \n",
    "    def tidal_acceleration(self, k, alpha):\n",
    "        R = (1|units.RJupiter).value_in(units.m) \n",
    "        M = (1|units.MJupiter).value_in(units.kg)\n",
    "        G = constants.G.value_in( (units.m)**3 / (units.kg * units.s**2) )\n",
    "        r = np.sqrt(np.sum(np.square(self.particles.position.value_in(units.m) - \\\n",
    "                                     self.particles[1].position.value_in(units.m)), axis=1))\n",
    "        \n",
    "        abs_vel = np.sqrt(np.sum(np.square(self.particles.velocity.value_in(units.m*units.s**-1)), axis=1))\n",
    "        abs_acc = np.zeros(len(self.particles))\n",
    "        mask = np.arange(len(self.particles)) != 1\n",
    "        abs_acc[mask] = -9*k*G*self.particles.mass[mask].value_in(units.kg)*(R**5)*\\\n",
    "        np.sin(2*alpha)/(4*r[mask]**7)\n",
    "        abs_acc = abs_acc * 1|units.m*units.s**-2\n",
    "                \n",
    "        ax = abs_acc*(self.particles.vx.value_in(units.m*units.s**-1)/abs_vel)\n",
    "        ay = abs_acc*(self.particles.vy.value_in(units.m*units.s**-1)/abs_vel)\n",
    "        az = abs_acc*(self.particles.vz.value_in(units.m*units.s**-1)/abs_vel)\n",
    "        \n",
    "        return ax, ay, az\n",
    "    \n",
    "    \n",
    "    def get_gravity_at_point(self, eps, x, y, z):\n",
    "        if self.method == 'simple':\n",
    "            return self.tidal_acceleration(k=0.565, alpha=self.alpha) #k from literature, alpha guess\n",
    "        elif self.method == 'complex':\n",
    "            return self.comp_tidal_acceleration(kdt=2e-2) #k from literature, alpha guess\n",
    "    \n",
    "    def comp_tidal_acceleration(self, kdt):\n",
    "        #the number of satellites is needed to reshape the arrays such that all arrays can be contracted\n",
    "        #in the correct way (eg multiplication of arrays of vectors, with arrays)\n",
    "        num_sat = len(self.particles)-1\n",
    "        mask = self.particles.name != 'jupiter'\n",
    "        \n",
    "        #initializing some constants\n",
    "        M = (1|units.MJupiter).value_in(units.kg)\n",
    "        G = constants.G.value_in( (units.m)**3 / (units.kg * units.s**2) )\n",
    "        c = constants.c.value_in( units.m/units.s)\n",
    "        \n",
    "        #obtaining some attributes of the sattelites\n",
    "        m = (self.particles.mass.value_in(units.kg)[mask]).reshape((num_sat,1))\n",
    "        R_sat = (self.particles.radius.value_in(units.m)[mask]).reshape((num_sat,1))\n",
    "        \n",
    "        #calculating the relative positions/distances and velocities \n",
    "        r_vec = self.particles[mask].position.value_in(units.m) - self.particles[1].position.value_in(units.m)\n",
    "        r = np.sqrt(np.sum(np.square(r_vec),axis=1)).reshape((num_sat,1))\n",
    "        \n",
    "        v_vec = self.particles[mask].velocity.value_in(units.m/units.s) - \\\n",
    "                self.particles[1].velocity.value_in(units.m/units.s)\n",
    "        v = np.sqrt(np.sum(np.square(v_vec),axis=1)).reshape((num_sat,1))\n",
    "        \n",
    "        omega = v_vec/r\n",
    "        \n",
    "        #calculating the tidal force\n",
    "        f = -3*kdt*G*(M**2)*(R_sat**5)/(r**10)*( 2*r_vec*(np.sum(r_vec*v_vec, axis=1).reshape((num_sat,1))) +\\\n",
    "                                                 (r**2)*( np.cross(r_vec,omega) + v_vec ))\n",
    "        \n",
    "        #calculating the general relativity correction\n",
    "        f_rel = G*m*M/(c**2 * (r)**3)*( (4*G*M/r - v**2)*r_vec + \\\n",
    "                        4*(np.sum(r_vec*v_vec,axis=1).reshape(num_sat,1))*v_vec)\n",
    "        \n",
    "        #calculating the acceleration due to tidal effects\n",
    "        a = (M + m)/(M*m)*(f+f_rel)\n",
    "        \n",
    "        ax = np.zeros(num_sat+1)\n",
    "        ay = np.zeros(num_sat+1)\n",
    "        az = np.zeros(num_sat+1)\n",
    "        \n",
    "        ax[mask] = a[:,0]\n",
    "        ay[mask] = a[:,1]\n",
    "        az[mask] = a[:,2]\n",
    "        \n",
    "        ax = ax * 1 | units.m/(units.s**2)\n",
    "        ay = ay * 1 | units.m/(units.s**2)\n",
    "        az = az * 1 | units.m/(units.s**2)\n",
    "        \n",
    "        return ax, ay, az\n",
    "    \n",
    "\n",
    "def energy_dissipation(system, k=0.565, alpha=0.1):\n",
    "    \"\"\" Calculates the total energy dissipation due to the tidal force for a particle system. The \n",
    "        second particle in the particle set is the particle that exerts the tidal force. \"\"\"\n",
    "\n",
    "    # Defining some constants\n",
    "    R = (1|units.RJupiter).value_in(units.m) #radius of Jupiter\n",
    "    M = (1|units.MJupiter).value_in(units.kg)\n",
    "    G = constants.G.value_in( (units.m)**3 / (units.kg * units.s**2) )\n",
    "    \n",
    "    # Getting some parameters/values from the particle set\n",
    "    m = system.mass.value_in(units.kg)\n",
    "    r = np.sqrt(np.sum(np.square(system.position.value_in(units.m) - \\\n",
    "                                 system[1].position.value_in(units.m)), axis=1))\n",
    "    \n",
    "    # To exclude the force of Jupiter on itself\n",
    "    mask = np.arange(len(system)) != 1\n",
    "    \n",
    "    # The energy dissipation\n",
    "    dE_dt = -9*k*G**(3/2)*M**(1/2)*m[mask]**2*R**5*np.sin(2*alpha)/(2*r[mask]**(15/2))\n",
    "   \n",
    "    return np.sum(dE_dt) * 1|units.J/units.s\n",
    "\n",
    "\n",
    "def get_energies(system, timestep, k=0.565, alpha=0.1):\n",
    "    \"\"\" Calculates the total energy of the system, along with the energy dissipation. \"\"\"\n",
    "\n",
    "    # Getting the kinetic and potential energy from the particle system\n",
    "    E_kin = system.kinetic_energy()\n",
    "    E_pot = system.potential_energy()\n",
    "    E_tot = E_kin + E_pot\n",
    "    \n",
    "    # Getting the energy dissipation\n",
    "    dE_dt = energy_dissipation(system)\n",
    "\n",
    "    # Getting the total dissipated energy in the following timestep\n",
    "    dE = dE_dt*timestep\n",
    "    \n",
    "    return E_tot, dE"
   ]
  }
 ],
 "metadata": {
  "kernelspec": {
   "display_name": "Python 3",
   "language": "python",
   "name": "python3"
  },
  "language_info": {
   "codemirror_mode": {
    "name": "ipython",
    "version": 3
   },
   "file_extension": ".py",
   "mimetype": "text/x-python",
   "name": "python",
   "nbconvert_exporter": "python",
   "pygments_lexer": "ipython3",
   "version": "3.8.8"
  }
 },
 "nbformat": 4,
 "nbformat_minor": 5
}
